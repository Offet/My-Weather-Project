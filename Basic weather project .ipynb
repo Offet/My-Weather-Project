{
 "cells": [
  {
   "cell_type": "code",
   "execution_count": 1,
   "id": "4ffd9d97",
   "metadata": {},
   "outputs": [
    {
     "name": "stdout",
     "output_type": "stream",
     "text": [
      "Enter city name or ZIP code: Accra\n",
      "\n",
      "** Weather in Accra **\n",
      "Temperature: 29.23°C\n",
      "Humidity: 89%\n",
      "Description: few clouds\n"
     ]
    }
   ],
   "source": [
    "import requests\n",
    "\n",
    "# Using my generated key from OpenWeatherMap\n",
    "api_key = \"Kindly insert your orn API Key here\"\n",
    "# You can get your API key from OpenWeatherMap.org\n",
    "\n",
    "def get_weather(location):\n",
    "    \"\"\"\n",
    "    Fetches weather data for a given location.\n",
    "\n",
    "    Args:\n",
    "        location: City name or ZIP code.\n",
    "\n",
    "    Returns:\n",
    "        A dictionary containing weather data or None if error occurred.\n",
    "    \"\"\"\n",
    "    url = f\"https://api.openweathermap.org/data/2.5/weather?q={location}&appid={api_key}&units=metric\"\n",
    "    response = requests.get(url)\n",
    "\n",
    "    if response.status_code == 200:\n",
    "        return response.json()\n",
    "    else:\n",
    "        print(f\"Error: {response.status_code}\")\n",
    "        return None\n",
    "\n",
    "def main():\n",
    "    \"\"\"\n",
    "    Prompts user for location and displays weather information.\n",
    "    \"\"\"\n",
    "    location = input(\"Enter city name or ZIP code: \")\n",
    "    weather_data = get_weather(location)\n",
    "\n",
    "    if weather_data:\n",
    "        city = weather_data[\"name\"]\n",
    "        temp = weather_data[\"main\"][\"temp\"]\n",
    "        humidity = weather_data[\"main\"][\"humidity\"]\n",
    "        weather_description = weather_data[\"weather\"][0][\"description\"]\n",
    "\n",
    "        print(f\"\\n** Weather in {city} **\")\n",
    "        print(f\"Temperature: {temp:.2f}°C\")\n",
    "        print(f\"Humidity: {humidity}%\")\n",
    "        print(f\"Description: {weather_description}\")\n",
    "    else:\n",
    "        print(\"Error: Unable to retrieve weather data.\")\n",
    "\n",
    "if __name__ == \"__main__\":\n",
    "    main()\n"
   ]
  },
  {
   "cell_type": "code",
   "execution_count": null,
   "id": "f5ef93ba",
   "metadata": {},
   "outputs": [],
   "source": []
  }
 ],
 "metadata": {
  "kernelspec": {
   "display_name": "Python 3 (ipykernel)",
   "language": "python",
   "name": "python3"
  },
  "language_info": {
   "codemirror_mode": {
    "name": "ipython",
    "version": 3
   },
   "file_extension": ".py",
   "mimetype": "text/x-python",
   "name": "python",
   "nbconvert_exporter": "python",
   "pygments_lexer": "ipython3",
   "version": "3.11.5"
  }
 },
 "nbformat": 4,
 "nbformat_minor": 5
}
